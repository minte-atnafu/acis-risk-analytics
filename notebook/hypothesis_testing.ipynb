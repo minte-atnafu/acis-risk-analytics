{
 "cells": [
  {
   "cell_type": "code",
   "execution_count": 2,
   "id": "e41f0939",
   "metadata": {},
   "outputs": [],
   "source": [
    "import pandas as pd\n",
    "import scipy.stats as stats\n",
    "from statsmodels.stats.multicomp import pairwise_tukeyhsd"
   ]
  },
  {
   "cell_type": "code",
   "execution_count": 3,
   "id": "8f828fcf",
   "metadata": {},
   "outputs": [],
   "source": [
    "# Load data\n",
    "df = pd.read_csv('../data/MachineLearningRating_v3_sample.csv')"
   ]
  },
  {
   "cell_type": "code",
   "execution_count": 4,
   "id": "5440c009",
   "metadata": {},
   "outputs": [],
   "source": [
    "# Define metrics\n",
    "df['HasClaim'] = df['TotalClaims'] > 0\n",
    "df['Margin'] = df['TotalPremium'] - df['TotalClaims']\n",
    "claim_severity = df[df['HasClaim']]['TotalClaims']"
   ]
  },
  {
   "cell_type": "code",
   "execution_count": 5,
   "id": "5c9a169f",
   "metadata": {},
   "outputs": [
    {
     "name": "stdout",
     "output_type": "stream",
     "text": [
      "Province Claim Frequency: Chi2 p-value = 1.0\n"
     ]
    }
   ],
   "source": [
    "# Hypothesis 1: Risk differences across provinces\n",
    "# Claim Frequency\n",
    "province_freq = df.groupby('Province')['HasClaim'].mean()\n",
    "chi2, p_freq_prov, _, _ = stats.chi2_contingency(pd.crosstab(df['Province'], df['HasClaim']))\n",
    "print(f\"Province Claim Frequency: Chi2 p-value = {p_freq_prov}\")"
   ]
  },
  {
   "cell_type": "code",
   "execution_count": 7,
   "id": "0e869b5c",
   "metadata": {},
   "outputs": [
    {
     "name": "stdout",
     "output_type": "stream",
     "text": [
      "Not enough groups with claims to perform ANOVA.\n"
     ]
    }
   ],
   "source": [
    "# Generate groups only from provinces with at least one claim\n",
    "severity_by_prov = [\n",
    "    df[(df['Province'] == prov) & (df['HasClaim'])]['TotalClaims']\n",
    "    for prov in df['Province'].unique()\n",
    "    if not df[(df['Province'] == prov) & (df['HasClaim'])]['TotalClaims'].empty\n",
    "]\n",
    "\n",
    "# Run ANOVA if we have at least 2 non-empty groups\n",
    "if len(severity_by_prov) >= 2:\n",
    "    f_stat, p_sev_prov = stats.f_oneway(*severity_by_prov)\n",
    "    print(f\"Province Claim Severity: ANOVA p-value = {p_sev_prov}\")\n",
    "else:\n",
    "    print(\"Not enough groups with claims to perform ANOVA.\")\n"
   ]
  },
  {
   "cell_type": "code",
   "execution_count": 8,
   "id": "4230db1e",
   "metadata": {},
   "outputs": [
    {
     "name": "stdout",
     "output_type": "stream",
     "text": [
      "Zip Code Claim Frequency: Chi2 p-value = 1.0\n"
     ]
    }
   ],
   "source": [
    "# Hypothesis 2: Risk differences between zip codes\n",
    "# Claim Frequency\n",
    "zip_freq = df.groupby('PostalCode')['HasClaim'].mean()\n",
    "chi2, p_freq_zip, _, _ = stats.chi2_contingency(pd.crosstab(df['PostalCode'], df['HasClaim']))\n",
    "print(f\"Zip Code Claim Frequency: Chi2 p-value = {p_freq_zip}\")"
   ]
  },
  {
   "cell_type": "code",
   "execution_count": 9,
   "id": "beef8782",
   "metadata": {},
   "outputs": [
    {
     "name": "stdout",
     "output_type": "stream",
     "text": [
      "Zip Code Claim Severity: ANOVA p-value = nan\n"
     ]
    },
    {
     "name": "stderr",
     "output_type": "stream",
     "text": [
      "C:\\Users\\mintesinot\\AppData\\Local\\Temp\\ipykernel_21804\\755273357.py:3: SmallSampleWarning: One or more sample arguments is too small; all returned values will be NaN. See documentation for sample size requirements.\n",
      "  f_stat, p_sev_zip = stats.f_oneway(*severity_by_zip)\n"
     ]
    }
   ],
   "source": [
    "# Claim Severity (ANOVA)\n",
    "severity_by_zip = [df[df['PostalCode'] == zip_]['TotalClaims'][df['HasClaim']] for zip_ in df['PostalCode'].unique()]\n",
    "f_stat, p_sev_zip = stats.f_oneway(*severity_by_zip)\n",
    "print(f\"Zip Code Claim Severity: ANOVA p-value = {p_sev_zip}\")"
   ]
  },
  {
   "cell_type": "code",
   "execution_count": 10,
   "id": "4c7d7cb9",
   "metadata": {},
   "outputs": [
    {
     "name": "stdout",
     "output_type": "stream",
     "text": [
      "Zip Code Margin: ANOVA p-value = 2.850723461156593e-06\n"
     ]
    }
   ],
   "source": [
    "# Hypothesis 3: Margin differences between zip codes\n",
    "margin_by_zip = [df[df['PostalCode'] == zip_]['Margin'] for zip_ in df['PostalCode'].unique()]\n",
    "f_stat, p_margin_zip = stats.f_oneway(*margin_by_zip)\n",
    "print(f\"Zip Code Margin: ANOVA p-value = {p_margin_zip}\")"
   ]
  },
  {
   "cell_type": "code",
   "execution_count": 11,
   "id": "cfbb5a85",
   "metadata": {},
   "outputs": [
    {
     "name": "stdout",
     "output_type": "stream",
     "text": [
      "Gender Claim Frequency: Chi2 p-value = 1.0\n"
     ]
    }
   ],
   "source": [
    "# Hypothesis 4: Risk differences between genders\n",
    "# Claim Frequency\n",
    "gender_freq = df.groupby('Gender')['HasClaim'].mean()\n",
    "chi2, p_freq_gender, _, _ = stats.chi2_contingency(pd.crosstab(df['Gender'], df['HasClaim']))\n",
    "print(f\"Gender Claim Frequency: Chi2 p-value = {p_freq_gender}\")"
   ]
  },
  {
   "cell_type": "code",
   "execution_count": 12,
   "id": "db576bb7",
   "metadata": {},
   "outputs": [
    {
     "name": "stdout",
     "output_type": "stream",
     "text": [
      "Gender Claim Severity: t-test p-value = nan\n"
     ]
    },
    {
     "name": "stderr",
     "output_type": "stream",
     "text": [
      "c:\\Users\\mintesinot\\acis-risk-analytics\\venv\\Lib\\site-packages\\scipy\\_lib\\deprecation.py:234: SmallSampleWarning: One or more sample arguments is too small; all returned values will be NaN. See documentation for sample size requirements.\n",
      "  return f(*args, **kwargs)\n"
     ]
    }
   ],
   "source": [
    "# Claim Severity (t-test)\n",
    "severity_male = df[(df['Gender'] == 'Male') & df['HasClaim']]['TotalClaims']\n",
    "severity_female = df[(df['Gender'] == 'Female') & df['HasClaim']]['TotalClaims']\n",
    "t_stat, p_sev_gender = stats.ttest_ind(severity_male, severity_female)\n",
    "print(f\"Gender Claim Severity: t-test p-value = {p_sev_gender}\")"
   ]
  },
  {
   "cell_type": "code",
   "execution_count": 13,
   "id": "3b978236",
   "metadata": {},
   "outputs": [
    {
     "name": "stdout",
     "output_type": "stream",
     "text": [
      "Reject H0: Significant margin differences between zip codes. Optimize pricing in high-margin areas.\n"
     ]
    }
   ],
   "source": [
    "# Business Recommendations\n",
    "if p_freq_prov < 0.05:\n",
    "    print(\"Reject H0: Significant risk differences across provinces. Adjust premiums by region.\")\n",
    "if p_sev_zip < 0.05:\n",
    "    print(\"Reject H0: Significant risk differences between zip codes. Target low-risk zip codes for marketing.\")\n",
    "if p_margin_zip < 0.05:\n",
    "    print(\"Reject H0: Significant margin differences between zip codes. Optimize pricing in high-margin areas.\")\n",
    "if p_sev_gender < 0.05:\n",
    "    print(\"Reject H0: Significant risk differences between genders. Consider gender-based pricing adjustments.\")"
   ]
  }
 ],
 "metadata": {
  "kernelspec": {
   "display_name": "venv",
   "language": "python",
   "name": "venv"
  },
  "language_info": {
   "codemirror_mode": {
    "name": "ipython",
    "version": 3
   },
   "file_extension": ".py",
   "mimetype": "text/x-python",
   "name": "python",
   "nbconvert_exporter": "python",
   "pygments_lexer": "ipython3",
   "version": "3.12.6"
  }
 },
 "nbformat": 4,
 "nbformat_minor": 5
}
