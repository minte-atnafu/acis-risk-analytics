{
 "cells": [
  {
   "cell_type": "code",
   "execution_count": 1,
   "id": "a60546d8",
   "metadata": {},
   "outputs": [],
   "source": [
    "import pandas as pd\n",
    "import matplotlib.pyplot as plt\n",
    "import seaborn as sns\n",
    "from uuid import uuid4"
   ]
  },
  {
   "cell_type": "code",
   "execution_count": 3,
   "id": "71e2f468",
   "metadata": {},
   "outputs": [],
   "source": [
    "# Set plot style\n",
    "plt.style.use('seaborn-v0_8')"
   ]
  },
  {
   "cell_type": "code",
   "execution_count": 5,
   "id": "7cf5df19",
   "metadata": {},
   "outputs": [],
   "source": [
    "# Load data\n",
    "df = pd.read_csv('../data/MachineLearningRating_v3_sample.csv')\n",
    "df['TransactionMonth'] = pd.to_datetime(df['TransactionMonth'], format='%Y-%m')"
   ]
  },
  {
   "cell_type": "code",
   "execution_count": 6,
   "id": "34dcc19c",
   "metadata": {},
   "outputs": [
    {
     "name": "stdout",
     "output_type": "stream",
     "text": [
      "Descriptive Statistics:\n",
      "       TotalPremium  TotalClaims    SumInsured  CustomValueEstimate\n",
      "count    100.000000        100.0  1.000000e+02            57.000000\n",
      "mean      47.317669          0.0  7.777350e+05        127029.824561\n",
      "std      130.093275          0.0  1.718078e+06         30008.034430\n",
      "min        0.000000          0.0  1.000000e-02         52700.000000\n",
      "25%        0.000000          0.0  3.500000e+03        119300.000000\n",
      "50%        1.108860          0.0  7.500000e+03        119300.000000\n",
      "75%       25.280447          0.0  1.729500e+05        146800.000000\n",
      "max      709.980000          0.0  5.000000e+06        161000.000000\n"
     ]
    }
   ],
   "source": [
    "# Data Summarization\n",
    "print(\"Descriptive Statistics:\")\n",
    "print(df[['TotalPremium', 'TotalClaims', 'SumInsured', 'CustomValueEstimate']].describe())"
   ]
  },
  {
   "cell_type": "code",
   "execution_count": 7,
   "id": "bc06438f",
   "metadata": {},
   "outputs": [
    {
     "name": "stdout",
     "output_type": "stream",
     "text": [
      "\n",
      "Missing Values:\n",
      "UnderwrittenCoverID           0\n",
      "PolicyID                      0\n",
      "TransactionMonth            100\n",
      "IsVATRegistered               0\n",
      "Citizenship                   0\n",
      "LegalType                     0\n",
      "Title                         0\n",
      "Language                      0\n",
      "Bank                          0\n",
      "AccountType                   0\n",
      "MaritalStatus                 0\n",
      "Gender                        0\n",
      "Country                       0\n",
      "Province                      0\n",
      "PostalCode                    0\n",
      "MainCrestaZone                0\n",
      "SubCrestaZone                 0\n",
      "ItemType                      0\n",
      "mmcode                        0\n",
      "VehicleType                   0\n",
      "RegistrationYear              0\n",
      "make                          0\n",
      "Model                         0\n",
      "Cylinders                     0\n",
      "cubiccapacity                 0\n",
      "kilowatts                     0\n",
      "bodytype                      0\n",
      "NumberOfDoors                 0\n",
      "VehicleIntroDate              0\n",
      "CustomValueEstimate          43\n",
      "AlarmImmobiliser              0\n",
      "TrackingDevice                0\n",
      "CapitalOutstanding            0\n",
      "NewVehicle                   19\n",
      "WrittenOff                   91\n",
      "Rebuilt                      91\n",
      "Converted                    91\n",
      "CrossBorder                 100\n",
      "NumberOfVehiclesInFleet     100\n",
      "SumInsured                    0\n",
      "TermFrequency                 0\n",
      "CalculatedPremiumPerTerm      0\n",
      "ExcessSelected                0\n",
      "CoverCategory                 0\n",
      "CoverType                     0\n",
      "CoverGroup                    0\n",
      "Section                       0\n",
      "Product                       0\n",
      "StatutoryClass                0\n",
      "StatutoryRiskType             0\n",
      "TotalPremium                  0\n",
      "TotalClaims                   0\n",
      "dtype: int64\n"
     ]
    }
   ],
   "source": [
    "# Data Quality Assessment\n",
    "print(\"\\nMissing Values:\")\n",
    "print(df.isnull().sum())"
   ]
  },
  {
   "cell_type": "code",
   "execution_count": 8,
   "id": "5657729b",
   "metadata": {},
   "outputs": [],
   "source": [
    "# Remove or impute missing values (example: drop rows with missing critical fields)\n",
    "df = df.dropna(subset=['TotalPremium', 'TotalClaims', 'Province', 'Gender'])"
   ]
  },
  {
   "cell_type": "code",
   "execution_count": 10,
   "id": "64dd90a1",
   "metadata": {},
   "outputs": [],
   "source": [
    "# Univariate Analysis\n",
    "plt.figure(figsize=(10, 6))\n",
    "sns.histplot(df['TotalClaims'], bins=50, kde=True)\n",
    "plt.title('Distribution of Total Claims')\n",
    "plt.xlabel('Total Claims (Rand)')\n",
    "plt.savefig('../reports/total_claims_histogram.png')\n",
    "plt.close()"
   ]
  },
  {
   "cell_type": "code",
   "execution_count": 11,
   "id": "1ae8d6e0",
   "metadata": {},
   "outputs": [],
   "source": [
    "# Bivariate Analysis: Loss Ratio by Province\n",
    "df['LossRatio'] = df['TotalClaims'] / df['TotalPremium']\n",
    "plt.figure(figsize = (12, 6))\n",
    "sns.barplot(x='Province', y='LossRatio', data=df)\n",
    "plt.title('Loss Ratio by Province')\n",
    "plt.xticks(rotation=45)\n",
    "plt.savefig('../reports/loss_ratio_province.png')\n",
    "plt.close()"
   ]
  },
  {
   "cell_type": "code",
   "execution_count": 12,
   "id": "300bb27a",
   "metadata": {},
   "outputs": [],
   "source": [
    "# Claim Frequency by Vehicle Type\n",
    "claim_freq = df.groupby('VehicleType')['TotalClaims'].apply(lambda x: (x > 0).mean()).reset_index()\n",
    "plt.figure(figsize=(12, 6))\n",
    "sns.barplot(x='VehicleType', y='TotalClaims', data=claim_freq)\n",
    "plt.title('Claim Frequency by Vehicle Type')\n",
    "plt.xticks(rotation=45)\n",
    "plt.savefig('../reports/claim_freq_vehicle_type.png')\n",
    "plt.close()"
   ]
  },
  {
   "cell_type": "code",
   "execution_count": 13,
   "id": "6434eefa",
   "metadata": {},
   "outputs": [],
   "source": [
    "# Temporal Trend of Total Claims\n",
    "monthly_claims = df.groupby('TransactionMonth')['TotalClaims'].sum().reset_index()\n",
    "plt.figure(figsize=(12, 6))\n",
    "sns.lineplot(x='TransactionMonth', y='TotalClaims', data=monthly_claims)\n",
    "plt.title('Total Claims Over Time')\n",
    "plt.savefig('../reports/total_claims_trend.png')\n",
    "plt.close()"
   ]
  },
  {
   "cell_type": "code",
   "execution_count": 14,
   "id": "236019b9",
   "metadata": {},
   "outputs": [],
   "source": [
    "# Outlier Detection\n",
    "plt.figure(figsize=(10, 6))\n",
    "sns.boxplot(x=df['TotalClaims'])\n",
    "plt.title('Box Plot of Total Claims')\n",
    "plt.savefig('../reports/total_claims_boxplot.png')\n",
    "plt.close()"
   ]
  },
  {
   "cell_type": "code",
   "execution_count": 15,
   "id": "6e8515df",
   "metadata": {},
   "outputs": [],
   "source": [
    "# Correlation Matrix\n",
    "corr = df[['TotalPremium', 'TotalClaims', 'SumInsured', 'CustomValueEstimate']].corr()\n",
    "plt.figure(figsize=(8, 6))\n",
    "sns.heatmap(corr, annot=True, cmap='coolwarm')\n",
    "plt.title('Correlation Matrix')\n",
    "plt.savefig('../reports/correlation_matrix.png')\n",
    "plt.close()"
   ]
  }
 ],
 "metadata": {
  "kernelspec": {
   "display_name": "venv",
   "language": "python",
   "name": "venv"
  },
  "language_info": {
   "codemirror_mode": {
    "name": "ipython",
    "version": 3
   },
   "file_extension": ".py",
   "mimetype": "text/x-python",
   "name": "python",
   "nbconvert_exporter": "python",
   "pygments_lexer": "ipython3",
   "version": "3.12.6"
  }
 },
 "nbformat": 4,
 "nbformat_minor": 5
}
